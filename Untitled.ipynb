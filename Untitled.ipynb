{
 "cells": [
  {
   "cell_type": "code",
   "execution_count": 3,
   "metadata": {},
   "outputs": [],
   "source": [
    "from git import Repo,remote"
   ]
  },
  {
   "cell_type": "code",
   "execution_count": 7,
   "metadata": {},
   "outputs": [
    {
     "data": {
      "text/plain": [
       "['DAEMON_EXPORT_FILE',\n",
       " 'GitCommandWrapperType',\n",
       " '__class__',\n",
       " '__del__',\n",
       " '__delattr__',\n",
       " '__dict__',\n",
       " '__dir__',\n",
       " '__doc__',\n",
       " '__enter__',\n",
       " '__eq__',\n",
       " '__exit__',\n",
       " '__format__',\n",
       " '__ge__',\n",
       " '__getattribute__',\n",
       " '__gt__',\n",
       " '__hash__',\n",
       " '__init__',\n",
       " '__init_subclass__',\n",
       " '__le__',\n",
       " '__lt__',\n",
       " '__module__',\n",
       " '__ne__',\n",
       " '__new__',\n",
       " '__reduce__',\n",
       " '__reduce_ex__',\n",
       " '__repr__',\n",
       " '__setattr__',\n",
       " '__sizeof__',\n",
       " '__str__',\n",
       " '__subclasshook__',\n",
       " '__weakref__',\n",
       " '_clone',\n",
       " '_common_dir',\n",
       " '_get_alternates',\n",
       " '_get_config_path',\n",
       " '_get_untracked_files',\n",
       " '_set_alternates',\n",
       " '_working_tree_dir',\n",
       " 'active_branch',\n",
       " 'alternates',\n",
       " 'archive',\n",
       " 'bare',\n",
       " 'blame',\n",
       " 'blame_incremental',\n",
       " 'branches',\n",
       " 'clone',\n",
       " 'clone_from',\n",
       " 'close',\n",
       " 'commit',\n",
       " 'common_dir',\n",
       " 'config_level',\n",
       " 'config_reader',\n",
       " 'config_writer',\n",
       " 'create_head',\n",
       " 'create_remote',\n",
       " 'create_submodule',\n",
       " 'create_tag',\n",
       " 'daemon_export',\n",
       " 'delete_head',\n",
       " 'delete_remote',\n",
       " 'delete_tag',\n",
       " 'description',\n",
       " 'git',\n",
       " 'git_dir',\n",
       " 'has_separate_working_tree',\n",
       " 'head',\n",
       " 'heads',\n",
       " 'index',\n",
       " 'init',\n",
       " 'is_ancestor',\n",
       " 'is_dirty',\n",
       " 'iter_commits',\n",
       " 'iter_submodules',\n",
       " 'iter_trees',\n",
       " 'merge_base',\n",
       " 're_author_committer_start',\n",
       " 're_hexsha_only',\n",
       " 're_hexsha_shortened',\n",
       " 're_tab_full_line',\n",
       " 're_whitespace',\n",
       " 'references',\n",
       " 'refs',\n",
       " 'remote',\n",
       " 'remotes',\n",
       " 'rev_parse',\n",
       " 'submodule',\n",
       " 'submodule_update',\n",
       " 'submodules',\n",
       " 'tag',\n",
       " 'tags',\n",
       " 'tree',\n",
       " 'untracked_files',\n",
       " 'working_dir',\n",
       " 'working_tree_dir']"
      ]
     },
     "execution_count": 7,
     "metadata": {},
     "output_type": "execute_result"
    }
   ],
   "source": [
    "dir(Repo)"
   ]
  },
  {
   "cell_type": "code",
   "execution_count": 8,
   "metadata": {},
   "outputs": [
    {
     "data": {
      "text/plain": [
       "<bound method Repo.init of <class 'git.repo.base.Repo'>>"
      ]
     },
     "execution_count": 8,
     "metadata": {},
     "output_type": "execute_result"
    }
   ],
   "source": [
    "Repo.init"
   ]
  },
  {
   "cell_type": "code",
   "execution_count": 10,
   "metadata": {},
   "outputs": [],
   "source": [
    "repo = Repo(\"/Users/jlwei/Desktop/Jialu Wei_Python_assignment\")"
   ]
  },
  {
   "cell_type": "code",
   "execution_count": 12,
   "metadata": {},
   "outputs": [
    {
     "data": {
      "text/plain": [
       "False"
      ]
     },
     "execution_count": 12,
     "metadata": {},
     "output_type": "execute_result"
    }
   ],
   "source": [
    "repo.bare"
   ]
  },
  {
   "cell_type": "code",
   "execution_count": 27,
   "metadata": {},
   "outputs": [
    {
     "data": {
      "text/plain": [
       "<bound method Repo.is_dirty of <git.Repo \"C:\\Users\\jlwei\\Desktop\\Jialu Wei_Python_assignment\\.git\">>"
      ]
     },
     "execution_count": 27,
     "metadata": {},
     "output_type": "execute_result"
    }
   ],
   "source": [
    "repo.is_dirty"
   ]
  },
  {
   "cell_type": "code",
   "execution_count": 28,
   "metadata": {},
   "outputs": [
    {
     "data": {
      "text/plain": [
       "['.ipynb_checkpoints/Jialu Wei_Python-checkpoint.ipynb',\n",
       " '.ipynb_checkpoints/Untitled-checkpoint.ipynb',\n",
       " 'Jialu Wei_Python.ipynb',\n",
       " 'Untitled.ipynb',\n",
       " 'bears_cytb.fasta',\n",
       " 'bears_mass.csv',\n",
       " 'bears_mass_cytb.csv',\n",
       " 'my_blast_bonus.xml',\n",
       " 'seqence_translate.py',\n",
       " 'untracked.file']"
      ]
     },
     "execution_count": 28,
     "metadata": {},
     "output_type": "execute_result"
    }
   ],
   "source": [
    "repo.untracked_files\n",
    "with open('untracked.file','w') as fobj:\n",
    "    fobj.write('')\n",
    "repo.untracked_files"
   ]
  },
  {
   "cell_type": "code",
   "execution_count": 29,
   "metadata": {},
   "outputs": [
    {
     "data": {
      "text/plain": [
       "<generator object IndexFile.checkout.<locals>.<genexpr> at 0x000002509A8AED68>"
      ]
     },
     "execution_count": 29,
     "metadata": {},
     "output_type": "execute_result"
    }
   ],
   "source": [
    "repo.index.checkout(force=True)"
   ]
  },
  {
   "cell_type": "code",
   "execution_count": 30,
   "metadata": {},
   "outputs": [
    {
     "data": {
      "text/plain": [
       "False"
      ]
     },
     "execution_count": 30,
     "metadata": {},
     "output_type": "execute_result"
    }
   ],
   "source": [
    "repo.is_dirty()"
   ]
  },
  {
   "cell_type": "code",
   "execution_count": 31,
   "metadata": {},
   "outputs": [],
   "source": [
    "head = repo.head"
   ]
  },
  {
   "cell_type": "code",
   "execution_count": 32,
   "metadata": {},
   "outputs": [
    {
     "data": {
      "text/plain": [
       "<bound method Remote.push of <git.Remote \"origin\">>"
      ]
     },
     "execution_count": 32,
     "metadata": {},
     "output_type": "execute_result"
    }
   ],
   "source": [
    "remote = repo.remote()\n",
    "remote.fetch\n",
    "remote.pull\n",
    "remote.push"
   ]
  },
  {
   "cell_type": "code",
   "execution_count": null,
   "metadata": {},
   "outputs": [],
   "source": []
  }
 ],
 "metadata": {
  "kernelspec": {
   "display_name": "Python 3",
   "language": "python",
   "name": "python3"
  },
  "language_info": {
   "codemirror_mode": {
    "name": "ipython",
    "version": 3
   },
   "file_extension": ".py",
   "mimetype": "text/x-python",
   "name": "python",
   "nbconvert_exporter": "python",
   "pygments_lexer": "ipython3",
   "version": "3.7.0"
  }
 },
 "nbformat": 4,
 "nbformat_minor": 2
}
